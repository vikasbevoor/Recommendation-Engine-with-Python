{
 "cells": [
  {
   "cell_type": "code",
   "execution_count": 1,
   "metadata": {},
   "outputs": [],
   "source": [
    "# Importing the necessary libraries"
   ]
  },
  {
   "cell_type": "code",
   "execution_count": 2,
   "metadata": {},
   "outputs": [],
   "source": [
    "import pandas as pd\n",
    "import numpy as np\n",
    "import matplotlib.pyplot as plt"
   ]
  },
  {
   "cell_type": "code",
   "execution_count": 3,
   "metadata": {},
   "outputs": [],
   "source": [
    "# Importing the dataset"
   ]
  },
  {
   "cell_type": "code",
   "execution_count": 4,
   "metadata": {},
   "outputs": [
    {
     "data": {
      "text/html": [
       "<div>\n",
       "<style scoped>\n",
       "    .dataframe tbody tr th:only-of-type {\n",
       "        vertical-align: middle;\n",
       "    }\n",
       "\n",
       "    .dataframe tbody tr th {\n",
       "        vertical-align: top;\n",
       "    }\n",
       "\n",
       "    .dataframe thead th {\n",
       "        text-align: right;\n",
       "    }\n",
       "</style>\n",
       "<table border=\"1\" class=\"dataframe\">\n",
       "  <thead>\n",
       "    <tr style=\"text-align: right;\">\n",
       "      <th></th>\n",
       "      <th>user_Id</th>\n",
       "      <th>Book_title</th>\n",
       "      <th>Book_author</th>\n",
       "      <th>Publisher</th>\n",
       "      <th>ratings</th>\n",
       "    </tr>\n",
       "  </thead>\n",
       "  <tbody>\n",
       "    <tr>\n",
       "      <td>0</td>\n",
       "      <td>1</td>\n",
       "      <td>Classical Mythology</td>\n",
       "      <td>Mark P. O. Morford</td>\n",
       "      <td>Oxford University Press</td>\n",
       "      <td>0</td>\n",
       "    </tr>\n",
       "    <tr>\n",
       "      <td>1</td>\n",
       "      <td>2</td>\n",
       "      <td>Clara Callan</td>\n",
       "      <td>Richard Bruce Wright</td>\n",
       "      <td>HarperFlamingo Canada</td>\n",
       "      <td>5</td>\n",
       "    </tr>\n",
       "    <tr>\n",
       "      <td>2</td>\n",
       "      <td>3</td>\n",
       "      <td>Decision in Normandy</td>\n",
       "      <td>Carlo D'Este</td>\n",
       "      <td>HarperPerennial</td>\n",
       "      <td>0</td>\n",
       "    </tr>\n",
       "    <tr>\n",
       "      <td>3</td>\n",
       "      <td>4</td>\n",
       "      <td>Flu: The Story of the Great Influenza Pandemic...</td>\n",
       "      <td>Gina Bari Kolata</td>\n",
       "      <td>Farrar Straus Giroux</td>\n",
       "      <td>3</td>\n",
       "    </tr>\n",
       "    <tr>\n",
       "      <td>4</td>\n",
       "      <td>5</td>\n",
       "      <td>The Mummies of Urumchi</td>\n",
       "      <td>E. J. W. Barber</td>\n",
       "      <td>W. W. Norton &amp;amp; Company</td>\n",
       "      <td>6</td>\n",
       "    </tr>\n",
       "  </tbody>\n",
       "</table>\n",
       "</div>"
      ],
      "text/plain": [
       "   user_Id                                         Book_title  \\\n",
       "0        1                                Classical Mythology   \n",
       "1        2                                       Clara Callan   \n",
       "2        3                               Decision in Normandy   \n",
       "3        4  Flu: The Story of the Great Influenza Pandemic...   \n",
       "4        5                             The Mummies of Urumchi   \n",
       "\n",
       "            Book_author                   Publisher  ratings  \n",
       "0    Mark P. O. Morford     Oxford University Press        0  \n",
       "1  Richard Bruce Wright       HarperFlamingo Canada        5  \n",
       "2          Carlo D'Este             HarperPerennial        0  \n",
       "3      Gina Bari Kolata        Farrar Straus Giroux        3  \n",
       "4       E. J. W. Barber  W. W. Norton &amp; Company        6  "
      ]
     },
     "execution_count": 4,
     "metadata": {},
     "output_type": "execute_result"
    }
   ],
   "source": [
    "books = pd.read_csv(r\"C:\\Users\\Admin\\Desktop\\book.csv\",sep=',', encoding='latin-1')\n",
    "books.head()"
   ]
  },
  {
   "cell_type": "code",
   "execution_count": 5,
   "metadata": {},
   "outputs": [
    {
     "data": {
      "text/plain": [
       "(5000, 5)"
      ]
     },
     "execution_count": 5,
     "metadata": {},
     "output_type": "execute_result"
    }
   ],
   "source": [
    "books.shape"
   ]
  },
  {
   "cell_type": "code",
   "execution_count": 6,
   "metadata": {},
   "outputs": [
    {
     "data": {
      "text/plain": [
       "Index(['user_Id', 'Book_title', 'Book_author', 'Publisher', 'ratings'], dtype='object')"
      ]
     },
     "execution_count": 6,
     "metadata": {},
     "output_type": "execute_result"
    }
   ],
   "source": [
    "books.columns"
   ]
  },
  {
   "cell_type": "code",
   "execution_count": 7,
   "metadata": {
    "scrolled": true
   },
   "outputs": [
    {
     "data": {
      "text/plain": [
       "user_Id        0\n",
       "Book_title     0\n",
       "Book_author    0\n",
       "Publisher      0\n",
       "ratings        0\n",
       "dtype: int64"
      ]
     },
     "execution_count": 7,
     "metadata": {},
     "output_type": "execute_result"
    }
   ],
   "source": [
    "books.isna().sum()"
   ]
  },
  {
   "cell_type": "code",
   "execution_count": 8,
   "metadata": {},
   "outputs": [],
   "source": [
    "# There is no NA values in the dataset"
   ]
  },
  {
   "cell_type": "code",
   "execution_count": 9,
   "metadata": {},
   "outputs": [],
   "source": [
    "# Checking the unique numbers for each column"
   ]
  },
  {
   "cell_type": "code",
   "execution_count": 10,
   "metadata": {
    "scrolled": true
   },
   "outputs": [
    {
     "name": "stdout",
     "output_type": "stream",
     "text": [
      "user_Id        5000\n",
      "Book_title     4839\n",
      "Book_author    3213\n",
      "Publisher      1156\n",
      "ratings          11\n",
      "dtype: int64\n"
     ]
    }
   ],
   "source": [
    "print(books.nunique())"
   ]
  },
  {
   "cell_type": "code",
   "execution_count": 11,
   "metadata": {},
   "outputs": [],
   "source": [
    "# Value counts for each rating"
   ]
  },
  {
   "cell_type": "code",
   "execution_count": 12,
   "metadata": {},
   "outputs": [
    {
     "data": {
      "text/plain": [
       "0     3078\n",
       "8      479\n",
       "7      365\n",
       "10     305\n",
       "9      295\n",
       "5      194\n",
       "6      179\n",
       "4       54\n",
       "3       32\n",
       "2       15\n",
       "1        4\n",
       "Name: ratings, dtype: int64"
      ]
     },
     "execution_count": 12,
     "metadata": {},
     "output_type": "execute_result"
    }
   ],
   "source": [
    "value_counts = books.ratings.value_counts()\n",
    "value_counts"
   ]
  },
  {
   "cell_type": "code",
   "execution_count": 13,
   "metadata": {},
   "outputs": [],
   "source": [
    "# Barplot of value counts of each rating"
   ]
  },
  {
   "cell_type": "code",
   "execution_count": 14,
   "metadata": {},
   "outputs": [
    {
     "data": {
      "text/plain": [
       "Text(0, 0.5, 'Counts')"
      ]
     },
     "execution_count": 14,
     "metadata": {},
     "output_type": "execute_result"
    },
    {
     "data": {
      "image/png": "[encoded data removed]",
      "text/plain": [
       "<Figure size 432x288 with 1 Axes>"
      ]
     },
     "metadata": {
      "needs_background": "light"
     },
     "output_type": "display_data"
    }
   ],
   "source": [
    "plt.bar(\n",
    "    x = value_counts.index,\n",
    "    height=value_counts);\n",
    "plt.title(\"Rating distribution\")\n",
    "plt.xlabel(\"Ratings\");\n",
    "plt.ylabel(\"Counts\")"
   ]
  },
  {
   "cell_type": "code",
   "execution_count": 15,
   "metadata": {},
   "outputs": [],
   "source": [
    "# The non rating value i.e. 0 has highest counts, ratings 8 and 7 has got the next highest counts"
   ]
  },
  {
   "cell_type": "code",
   "execution_count": 16,
   "metadata": {},
   "outputs": [],
   "source": [
    "books_rating = books"
   ]
  },
  {
   "cell_type": "markdown",
   "metadata": {},
   "source": [
    "### Recommendation based on rating counts"
   ]
  },
  {
   "cell_type": "code",
   "execution_count": 17,
   "metadata": {},
   "outputs": [
    {
     "data": {
      "text/html": [
       "<div>\n",
       "<style scoped>\n",
       "    .dataframe tbody tr th:only-of-type {\n",
       "        vertical-align: middle;\n",
       "    }\n",
       "\n",
       "    .dataframe tbody tr th {\n",
       "        vertical-align: top;\n",
       "    }\n",
       "\n",
       "    .dataframe thead th {\n",
       "        text-align: right;\n",
       "    }\n",
       "</style>\n",
       "<table border=\"1\" class=\"dataframe\">\n",
       "  <thead>\n",
       "    <tr style=\"text-align: right;\">\n",
       "      <th></th>\n",
       "      <th>Book_title</th>\n",
       "      <th>totalRatingCount</th>\n",
       "    </tr>\n",
       "  </thead>\n",
       "  <tbody>\n",
       "    <tr>\n",
       "      <td>0</td>\n",
       "      <td>A Mountain Journal: A Mountain Journal;Alan W...</td>\n",
       "      <td>1</td>\n",
       "    </tr>\n",
       "    <tr>\n",
       "      <td>1</td>\n",
       "      <td>Ashley's);Ellen Reymes;1997;Scholastic;http:/...</td>\n",
       "      <td>1</td>\n",
       "    </tr>\n",
       "    <tr>\n",
       "      <td>2</td>\n",
       "      <td>Assoc Inc;http://images.amazon.com/images/P/1...</td>\n",
       "      <td>1</td>\n",
       "    </tr>\n",
       "    <tr>\n",
       "      <td>3</td>\n",
       "      <td>Assoc Inc;http://images.amazon.com/images/P/1...</td>\n",
       "      <td>1</td>\n",
       "    </tr>\n",
       "    <tr>\n",
       "      <td>4</td>\n",
       "      <td>Busby;http://images.amazon.com/images/P/07490...</td>\n",
       "      <td>1</td>\n",
       "    </tr>\n",
       "  </tbody>\n",
       "</table>\n",
       "</div>"
      ],
      "text/plain": [
       "                                          Book_title  totalRatingCount\n",
       "0   A Mountain Journal: A Mountain Journal;Alan W...                 1\n",
       "1   Ashley's);Ellen Reymes;1997;Scholastic;http:/...                 1\n",
       "2   Assoc Inc;http://images.amazon.com/images/P/1...                 1\n",
       "3   Assoc Inc;http://images.amazon.com/images/P/1...                 1\n",
       "4   Busby;http://images.amazon.com/images/P/07490...                 1"
      ]
     },
     "execution_count": 17,
     "metadata": {},
     "output_type": "execute_result"
    }
   ],
   "source": [
    "books_ratingCount = (books_rating.\n",
    "                    groupby(by=['Book_title'])['ratings'].\n",
    "                    count().\n",
    "                    reset_index().\n",
    "                    rename(columns={'ratings':'totalRatingCount'})\n",
    "                    [['Book_title','totalRatingCount']]\n",
    "                    )\n",
    "books_ratingCount.head()"
   ]
  },
  {
   "cell_type": "code",
   "execution_count": 18,
   "metadata": {},
   "outputs": [
    {
     "data": {
      "text/plain": [
       "(4839, 2)"
      ]
     },
     "execution_count": 18,
     "metadata": {},
     "output_type": "execute_result"
    }
   ],
   "source": [
    "books_ratingCount.shape"
   ]
  },
  {
   "cell_type": "code",
   "execution_count": 19,
   "metadata": {},
   "outputs": [],
   "source": [
    "# Checking the books with highest total rating counts"
   ]
  },
  {
   "cell_type": "code",
   "execution_count": 20,
   "metadata": {},
   "outputs": [
    {
     "data": {
      "text/html": [
       "<div>\n",
       "<style scoped>\n",
       "    .dataframe tbody tr th:only-of-type {\n",
       "        vertical-align: middle;\n",
       "    }\n",
       "\n",
       "    .dataframe tbody tr th {\n",
       "        vertical-align: top;\n",
       "    }\n",
       "\n",
       "    .dataframe thead th {\n",
       "        text-align: right;\n",
       "    }\n",
       "</style>\n",
       "<table border=\"1\" class=\"dataframe\">\n",
       "  <thead>\n",
       "    <tr style=\"text-align: right;\">\n",
       "      <th></th>\n",
       "      <th>Book_title</th>\n",
       "      <th>totalRatingCount</th>\n",
       "    </tr>\n",
       "  </thead>\n",
       "  <tbody>\n",
       "    <tr>\n",
       "      <td>1233</td>\n",
       "      <td>Ender's Game (Ender Wiggins Saga (Paperback))</td>\n",
       "      <td>4</td>\n",
       "    </tr>\n",
       "    <tr>\n",
       "      <td>3388</td>\n",
       "      <td>The Amber Spyglass (His Dark Materials, Book 3)</td>\n",
       "      <td>4</td>\n",
       "    </tr>\n",
       "    <tr>\n",
       "      <td>3759</td>\n",
       "      <td>The Golden Compass (His Dark Materials, Book 1)</td>\n",
       "      <td>3</td>\n",
       "    </tr>\n",
       "    <tr>\n",
       "      <td>4253</td>\n",
       "      <td>The Subtle Knife (His Dark Materials, Book 2)</td>\n",
       "      <td>3</td>\n",
       "    </tr>\n",
       "    <tr>\n",
       "      <td>4277</td>\n",
       "      <td>The Testament</td>\n",
       "      <td>3</td>\n",
       "    </tr>\n",
       "  </tbody>\n",
       "</table>\n",
       "</div>"
      ],
      "text/plain": [
       "                                           Book_title  totalRatingCount\n",
       "1233    Ender's Game (Ender Wiggins Saga (Paperback))                 4\n",
       "3388  The Amber Spyglass (His Dark Materials, Book 3)                 4\n",
       "3759  The Golden Compass (His Dark Materials, Book 1)                 3\n",
       "4253    The Subtle Knife (His Dark Materials, Book 2)                 3\n",
       "4277                                    The Testament                 3"
      ]
     },
     "execution_count": 20,
     "metadata": {},
     "output_type": "execute_result"
    }
   ],
   "source": [
    "books_ratingCount.sort_values(\"totalRatingCount\", ascending =False).head()"
   ]
  },
  {
   "cell_type": "code",
   "execution_count": 21,
   "metadata": {},
   "outputs": [
    {
     "data": {
      "text/html": [
       "<div>\n",
       "<style scoped>\n",
       "    .dataframe tbody tr th:only-of-type {\n",
       "        vertical-align: middle;\n",
       "    }\n",
       "\n",
       "    .dataframe tbody tr th {\n",
       "        vertical-align: top;\n",
       "    }\n",
       "\n",
       "    .dataframe thead th {\n",
       "        text-align: right;\n",
       "    }\n",
       "</style>\n",
       "<table border=\"1\" class=\"dataframe\">\n",
       "  <thead>\n",
       "    <tr style=\"text-align: right;\">\n",
       "      <th></th>\n",
       "      <th>totalRatingCount</th>\n",
       "    </tr>\n",
       "  </thead>\n",
       "  <tbody>\n",
       "    <tr>\n",
       "      <td>count</td>\n",
       "      <td>4839.000</td>\n",
       "    </tr>\n",
       "    <tr>\n",
       "      <td>mean</td>\n",
       "      <td>1.033</td>\n",
       "    </tr>\n",
       "    <tr>\n",
       "      <td>std</td>\n",
       "      <td>0.193</td>\n",
       "    </tr>\n",
       "    <tr>\n",
       "      <td>min</td>\n",
       "      <td>1.000</td>\n",
       "    </tr>\n",
       "    <tr>\n",
       "      <td>25%</td>\n",
       "      <td>1.000</td>\n",
       "    </tr>\n",
       "    <tr>\n",
       "      <td>50%</td>\n",
       "      <td>1.000</td>\n",
       "    </tr>\n",
       "    <tr>\n",
       "      <td>75%</td>\n",
       "      <td>1.000</td>\n",
       "    </tr>\n",
       "    <tr>\n",
       "      <td>max</td>\n",
       "      <td>4.000</td>\n",
       "    </tr>\n",
       "  </tbody>\n",
       "</table>\n",
       "</div>"
      ],
      "text/plain": [
       "       totalRatingCount\n",
       "count          4839.000\n",
       "mean              1.033\n",
       "std               0.193\n",
       "min               1.000\n",
       "25%               1.000\n",
       "50%               1.000\n",
       "75%               1.000\n",
       "max               4.000"
      ]
     },
     "execution_count": 21,
     "metadata": {},
     "output_type": "execute_result"
    }
   ],
   "source": [
    "pd.set_option('display.float_format',lambda x: '%.3f' % x)\n",
    "books_ratingCount.describe()"
   ]
  },
  {
   "cell_type": "code",
   "execution_count": 22,
   "metadata": {},
   "outputs": [],
   "source": [
    "# Only few books have more than one rating and remaining all the books have only one rating"
   ]
  },
  {
   "cell_type": "code",
   "execution_count": 23,
   "metadata": {},
   "outputs": [],
   "source": [
    "# Merging the total rating counts with books rating data frame"
   ]
  },
  {
   "cell_type": "code",
   "execution_count": 24,
   "metadata": {},
   "outputs": [
    {
     "data": {
      "text/html": [
       "<div>\n",
       "<style scoped>\n",
       "    .dataframe tbody tr th:only-of-type {\n",
       "        vertical-align: middle;\n",
       "    }\n",
       "\n",
       "    .dataframe tbody tr th {\n",
       "        vertical-align: top;\n",
       "    }\n",
       "\n",
       "    .dataframe thead th {\n",
       "        text-align: right;\n",
       "    }\n",
       "</style>\n",
       "<table border=\"1\" class=\"dataframe\">\n",
       "  <thead>\n",
       "    <tr style=\"text-align: right;\">\n",
       "      <th></th>\n",
       "      <th>Book_title</th>\n",
       "      <th>totalRatingCount</th>\n",
       "      <th>user_Id</th>\n",
       "      <th>Book_author</th>\n",
       "      <th>Publisher</th>\n",
       "      <th>ratings</th>\n",
       "    </tr>\n",
       "  </thead>\n",
       "  <tbody>\n",
       "    <tr>\n",
       "      <td>0</td>\n",
       "      <td>A Mountain Journal: A Mountain Journal;Alan W...</td>\n",
       "      <td>1</td>\n",
       "      <td>4966</td>\n",
       "      <td>Witsch;http://images.amazon.com/images/P/3462...</td>\n",
       "      <td>Co;http://images.amazon.com/images/P/03162852...</td>\n",
       "      <td>0</td>\n",
       "    </tr>\n",
       "    <tr>\n",
       "      <td>1</td>\n",
       "      <td>Ashley's);Ellen Reymes;1997;Scholastic;http:/...</td>\n",
       "      <td>1</td>\n",
       "      <td>4917</td>\n",
       "      <td>Ashley Olsen;2004;HarperEntertainment;http://...</td>\n",
       "      <td>Giroux;http://images.amazon.com/images/P/0374...</td>\n",
       "      <td>0</td>\n",
       "    </tr>\n",
       "    <tr>\n",
       "      <td>2</td>\n",
       "      <td>Assoc Inc;http://images.amazon.com/images/P/1...</td>\n",
       "      <td>1</td>\n",
       "      <td>4955</td>\n",
       "      <td>Assoc Inc;http://images.amazon.com/images/P/1...</td>\n",
       "      <td>Janes Editores, S.A.;http://images.amazon.com...</td>\n",
       "      <td>0</td>\n",
       "    </tr>\n",
       "    <tr>\n",
       "      <td>3</td>\n",
       "      <td>Assoc Inc;http://images.amazon.com/images/P/1...</td>\n",
       "      <td>1</td>\n",
       "      <td>4969</td>\n",
       "      <td>Oetinger &amp;amp</td>\n",
       "      <td>Giroux;http://images.amazon.com/images/P/0374...</td>\n",
       "      <td>0</td>\n",
       "    </tr>\n",
       "    <tr>\n",
       "      <td>4</td>\n",
       "      <td>Busby;http://images.amazon.com/images/P/07490...</td>\n",
       "      <td>1</td>\n",
       "      <td>4906</td>\n",
       "      <td>Sons;http://images.amazon.com/images/P/002862...</td>\n",
       "      <td>Schuster;http://images.amazon.com/images/P/06...</td>\n",
       "      <td>0</td>\n",
       "    </tr>\n",
       "  </tbody>\n",
       "</table>\n",
       "</div>"
      ],
      "text/plain": [
       "                                          Book_title  totalRatingCount  \\\n",
       "0   A Mountain Journal: A Mountain Journal;Alan W...                 1   \n",
       "1   Ashley's);Ellen Reymes;1997;Scholastic;http:/...                 1   \n",
       "2   Assoc Inc;http://images.amazon.com/images/P/1...                 1   \n",
       "3   Assoc Inc;http://images.amazon.com/images/P/1...                 1   \n",
       "4   Busby;http://images.amazon.com/images/P/07490...                 1   \n",
       "\n",
       "   user_Id                                        Book_author  \\\n",
       "0     4966   Witsch;http://images.amazon.com/images/P/3462...   \n",
       "1     4917   Ashley Olsen;2004;HarperEntertainment;http://...   \n",
       "2     4955   Assoc Inc;http://images.amazon.com/images/P/1...   \n",
       "3     4969                                      Oetinger &amp   \n",
       "4     4906   Sons;http://images.amazon.com/images/P/002862...   \n",
       "\n",
       "                                           Publisher  ratings  \n",
       "0   Co;http://images.amazon.com/images/P/03162852...        0  \n",
       "1   Giroux;http://images.amazon.com/images/P/0374...        0  \n",
       "2   Janes Editores, S.A.;http://images.amazon.com...        0  \n",
       "3   Giroux;http://images.amazon.com/images/P/0374...        0  \n",
       "4   Schuster;http://images.amazon.com/images/P/06...        0  "
      ]
     },
     "execution_count": 24,
     "metadata": {},
     "output_type": "execute_result"
    }
   ],
   "source": [
    "rating_with_totalRatingCount = books_ratingCount.merge(books_rating, left_on ='Book_title',right_on='Book_title',how='left')\n",
    "rating_with_totalRatingCount.head()"
   ]
  },
  {
   "cell_type": "code",
   "execution_count": 25,
   "metadata": {},
   "outputs": [
    {
     "data": {
      "text/plain": [
       "(5000, 6)"
      ]
     },
     "execution_count": 25,
     "metadata": {},
     "output_type": "execute_result"
    }
   ],
   "source": [
    "rating_with_totalRatingCount.shape"
   ]
  },
  {
   "cell_type": "code",
   "execution_count": 26,
   "metadata": {},
   "outputs": [],
   "source": [
    "# Considering only the books which have rating of minimum 5 "
   ]
  },
  {
   "cell_type": "code",
   "execution_count": 27,
   "metadata": {},
   "outputs": [
    {
     "data": {
      "text/html": [
       "<div>\n",
       "<style scoped>\n",
       "    .dataframe tbody tr th:only-of-type {\n",
       "        vertical-align: middle;\n",
       "    }\n",
       "\n",
       "    .dataframe tbody tr th {\n",
       "        vertical-align: top;\n",
       "    }\n",
       "\n",
       "    .dataframe thead th {\n",
       "        text-align: right;\n",
       "    }\n",
       "</style>\n",
       "<table border=\"1\" class=\"dataframe\">\n",
       "  <thead>\n",
       "    <tr style=\"text-align: right;\">\n",
       "      <th></th>\n",
       "      <th>Book_title</th>\n",
       "      <th>totalRatingCount</th>\n",
       "      <th>user_Id</th>\n",
       "      <th>Book_author</th>\n",
       "      <th>Publisher</th>\n",
       "      <th>ratings</th>\n",
       "    </tr>\n",
       "  </thead>\n",
       "  <tbody>\n",
       "    <tr>\n",
       "      <td>7</td>\n",
       "      <td>Co.;http://images.amazon.com/images/P/3426621...</td>\n",
       "      <td>1</td>\n",
       "      <td>4954</td>\n",
       "      <td>Dunlap;http://images.amazon.com/images/P/0448...</td>\n",
       "      <td>Boon Ltd;http://images.amazon.com/images/P/02...</td>\n",
       "      <td>7</td>\n",
       "    </tr>\n",
       "    <tr>\n",
       "      <td>13</td>\n",
       "      <td>Company;http://images.amazon.com/images/P/039...</td>\n",
       "      <td>1</td>\n",
       "      <td>4937</td>\n",
       "      <td>Giroux;http://images.amazon.com/images/P/0571...</td>\n",
       "      <td>Dist;http://images.amazon.com/images/P/091267...</td>\n",
       "      <td>6</td>\n",
       "    </tr>\n",
       "    <tr>\n",
       "      <td>31</td>\n",
       "      <td>Graf Publishers;http://images.amazon.com/imag...</td>\n",
       "      <td>1</td>\n",
       "      <td>4944</td>\n",
       "      <td>Witsch GmbH &amp;amp</td>\n",
       "      <td>JanÃ©s literaria);Camilo JosÃ© Cela;1986;Plaz...</td>\n",
       "      <td>6</td>\n",
       "    </tr>\n",
       "    <tr>\n",
       "      <td>52</td>\n",
       "      <td>Schuster));Sandra Boynton;1984;Little Simon;h...</td>\n",
       "      <td>1</td>\n",
       "      <td>4918</td>\n",
       "      <td>Company;http://images.amazon.com/images/P/039...</td>\n",
       "      <td>Graf Publishers;http://images.amazon.com/imag...</td>\n",
       "      <td>10</td>\n",
       "    </tr>\n",
       "    <tr>\n",
       "      <td>76</td>\n",
       "      <td>100 Great Fantasy Short, Short Stories</td>\n",
       "      <td>1</td>\n",
       "      <td>3657</td>\n",
       "      <td>Isaac Asimov</td>\n",
       "      <td>Harper Mass Market Paperbacks (Mm)</td>\n",
       "      <td>9</td>\n",
       "    </tr>\n",
       "  </tbody>\n",
       "</table>\n",
       "</div>"
      ],
      "text/plain": [
       "                                           Book_title  totalRatingCount  \\\n",
       "7    Co.;http://images.amazon.com/images/P/3426621...                 1   \n",
       "13   Company;http://images.amazon.com/images/P/039...                 1   \n",
       "31   Graf Publishers;http://images.amazon.com/imag...                 1   \n",
       "52   Schuster));Sandra Boynton;1984;Little Simon;h...                 1   \n",
       "76             100 Great Fantasy Short, Short Stories                 1   \n",
       "\n",
       "    user_Id                                        Book_author  \\\n",
       "7      4954   Dunlap;http://images.amazon.com/images/P/0448...   \n",
       "13     4937   Giroux;http://images.amazon.com/images/P/0571...   \n",
       "31     4944                                   Witsch GmbH &amp   \n",
       "52     4918   Company;http://images.amazon.com/images/P/039...   \n",
       "76     3657                                       Isaac Asimov   \n",
       "\n",
       "                                            Publisher  ratings  \n",
       "7    Boon Ltd;http://images.amazon.com/images/P/02...        7  \n",
       "13   Dist;http://images.amazon.com/images/P/091267...        6  \n",
       "31   JanÃ©s literaria);Camilo JosÃ© Cela;1986;Plaz...        6  \n",
       "52   Graf Publishers;http://images.amazon.com/imag...       10  \n",
       "76                 Harper Mass Market Paperbacks (Mm)        9  "
      ]
     },
     "execution_count": 27,
     "metadata": {},
     "output_type": "execute_result"
    }
   ],
   "source": [
    "popularity_threshold = 5\n",
    "rating_popular_book = rating_with_totalRatingCount.query('ratings >= @popularity_threshold')\n",
    "rating_popular_book.head()"
   ]
  },
  {
   "cell_type": "code",
   "execution_count": 28,
   "metadata": {},
   "outputs": [
    {
     "data": {
      "text/plain": [
       "(1817, 6)"
      ]
     },
     "execution_count": 28,
     "metadata": {},
     "output_type": "execute_result"
    }
   ],
   "source": [
    "rating_popular_book.shape"
   ]
  },
  {
   "cell_type": "code",
   "execution_count": 29,
   "metadata": {},
   "outputs": [],
   "source": [
    "# presenting the dataframe in pivot table form"
   ]
  },
  {
   "cell_type": "code",
   "execution_count": 30,
   "metadata": {},
   "outputs": [],
   "source": [
    "book_features_df = rating_popular_book.pivot_table(index='Book_title',columns='user_Id',values='ratings').fillna(0)"
   ]
  },
  {
   "cell_type": "code",
   "execution_count": 31,
   "metadata": {},
   "outputs": [],
   "source": [
    "# Converting the dataframe into rating matrix"
   ]
  },
  {
   "cell_type": "code",
   "execution_count": 32,
   "metadata": {},
   "outputs": [],
   "source": [
    "from scipy.sparse import csr_matrix\n",
    "book_features_df_matrix = csr_matrix(book_features_df)"
   ]
  },
  {
   "cell_type": "markdown",
   "metadata": {},
   "source": [
    "### Using the KNN for collbarative filtering "
   ]
  },
  {
   "cell_type": "code",
   "execution_count": 33,
   "metadata": {},
   "outputs": [],
   "source": [
    "from sklearn.neighbors import NearestNeighbors"
   ]
  },
  {
   "cell_type": "code",
   "execution_count": 34,
   "metadata": {},
   "outputs": [
    {
     "data": {
      "text/plain": [
       "NearestNeighbors(algorithm='brute', metric='cosine')"
      ]
     },
     "execution_count": 34,
     "metadata": {},
     "output_type": "execute_result"
    }
   ],
   "source": [
    "model_knn = NearestNeighbors(metric=\"cosine\",algorithm=\"brute\")\n",
    "model_knn.fit(book_features_df_matrix)"
   ]
  },
  {
   "cell_type": "code",
   "execution_count": 35,
   "metadata": {},
   "outputs": [
    {
     "data": {
      "text/plain": [
       "(1793, 1817)"
      ]
     },
     "execution_count": 35,
     "metadata": {},
     "output_type": "execute_result"
    }
   ],
   "source": [
    "book_features_df.shape"
   ]
  },
  {
   "cell_type": "code",
   "execution_count": 36,
   "metadata": {},
   "outputs": [],
   "source": [
    "# Randomly selecting any book from the dataframe"
   ]
  },
  {
   "cell_type": "code",
   "execution_count": 37,
   "metadata": {},
   "outputs": [
    {
     "data": {
      "text/plain": [
       "325"
      ]
     },
     "execution_count": 37,
     "metadata": {},
     "output_type": "execute_result"
    }
   ],
   "source": [
    "query_index = np.random.choice(book_features_df.shape[0])\n",
    "query_index"
   ]
  },
  {
   "cell_type": "code",
   "execution_count": 38,
   "metadata": {},
   "outputs": [],
   "source": [
    "# Defining the distances and indices for the KNN model"
   ]
  },
  {
   "cell_type": "code",
   "execution_count": 39,
   "metadata": {},
   "outputs": [],
   "source": [
    "distances, indices = model_knn.kneighbors(book_features_df.iloc[query_index,:].values.reshape(1,-1),n_neighbors=5)"
   ]
  },
  {
   "cell_type": "code",
   "execution_count": 40,
   "metadata": {},
   "outputs": [
    {
     "name": "stdout",
     "output_type": "stream",
     "text": [
      "Recommendation for Daughter of Fortune: A Novel:\n",
      "\n",
      "1:Strange Memories The Nancy Drew Files 122 (Nancy Drew Files (Paperback)),with distance of 1.0\n",
      "2:Stranger in a Strange Land,with distance of 1.0\n",
      "3:Strange Fits of Passion: A Novel,with distance of 1.0\n",
      "4:Strangers,with distance of 1.0\n"
     ]
    }
   ],
   "source": [
    "for i in range(0, len(distances.flatten())):\n",
    "    if i == 0:\n",
    "        print(\"Recommendation for {0}:\\n\".format(book_features_df.index[query_index]))\n",
    "    else:\n",
    "        print('{0}:{1},with distance of {2}'.format(i, book_features_df.index[indices.flatten()[i]],distances.flatten()[i]))"
   ]
  },
  {
   "cell_type": "code",
   "execution_count": null,
   "metadata": {},
   "outputs": [],
   "source": [
    "# The above 4 books are good recommendations for the randomly selected book."
   ]
  }
 ],
 "metadata": {
  "kernelspec": {
   "display_name": "Python 3",
   "language": "python",
   "name": "python3"
  },
  "language_info": {
   "codemirror_mode": {
    "name": "ipython",
    "version": 3
   },
   "file_extension": ".py",
   "mimetype": "text/x-python",
   "name": "python",
   "nbconvert_exporter": "python",
   "pygments_lexer": "ipython3",
   "version": "3.7.4"
  }
 },
 "nbformat": 4,
 "nbformat_minor": 2
}
